{
 "cells": [
  {
   "cell_type": "code",
   "execution_count": 1,
   "metadata": {},
   "outputs": [],
   "source": "import tensorflow as tf\nimport os\nimport numpy as np\nimport cv2\nimport matplotlib.pyplot as plt"
  },
  {
   "cell_type": "code",
   "execution_count": 2,
   "metadata": {},
   "outputs": [],
   "source": "def read_images(dataset_path):\n    global classes\n    im_path,labels=list(),list()\n    classes=os.listdir(dataset_path)\n    for i in classes:\n        path=os.path.join(dataset_path,i)\n        for j in os.listdir(path):\n            path1=os.path.join(path,j)\n            im_path.append(path1)\n            lab=classes.index(i)\n            if lab==0:\n                labels.append([0,1])\n            else:\n                labels.append([1,0])\n    for i in range(len(classes)):\n        print('{}:{}'.format(classes[i],i))\n    im_path=tf.convert_to_tensor(im_path)\n    labels=tf.convert_to_tensor(labels)\n    image,labels=tf.train.slice_input_producer([im_path,labels],shuffle=True)\n    image = tf.read_file(image)\n    image = tf.image.decode_jpeg(image, channels=1)\n    image = tf.image.resize_images(image, [32, 32])\n    # Normalize\n    image = image * 1.0/127.5 - 1.0\n    X, Y = tf.train.batch([image, labels], batch_size=32,capacity=32 * 8,num_threads=4)\n    return X,Y"
  },
  {
   "cell_type": "code",
   "execution_count": 3,
   "metadata": {},
   "outputs": [
    {
     "name": "stdout",
     "output_type": "stream",
     "text": "dogs:0\ncats:1\nWARNING:tensorflow:From <ipython-input-2-93f44ccbe31b>:19: slice_input_producer (from tensorflow.python.training.input) is deprecated and will be removed in a future version.\nInstructions for updating:\nQueue-based input pipelines have been replaced by `tf.data`. Use `tf.data.Dataset.from_tensor_slices(tuple(tensor_list)).shuffle(tf.shape(input_tensor, out_type=tf.int64)[0]).repeat(num_epochs)`. If `shuffle=False`, omit the `.shuffle(...)`.\nWARNING:tensorflow:From /home/cocoslabs/anaconda3/lib/python2.7/site-packages/tensorflow/python/training/input.py:374: range_input_producer (from tensorflow.python.training.input) is deprecated and will be removed in a future version.\nInstructions for updating:\nQueue-based input pipelines have been replaced by `tf.data`. Use `tf.data.Dataset.range(limit).shuffle(limit).repeat(num_epochs)`. If `shuffle=False`, omit the `.shuffle(...)`.\nWARNING:tensorflow:From /home/cocoslabs/anaconda3/lib/python2.7/site-packages/tensorflow/python/training/input.py:320: input_producer (from tensorflow.python.training.input) is deprecated and will be removed in a future version.\nInstructions for updating:\nQueue-based input pipelines have been replaced by `tf.data`. Use `tf.data.Dataset.from_tensor_slices(input_tensor).shuffle(tf.shape(input_tensor, out_type=tf.int64)[0]).repeat(num_epochs)`. If `shuffle=False`, omit the `.shuffle(...)`.\nWARNING:tensorflow:From /home/cocoslabs/anaconda3/lib/python2.7/site-packages/tensorflow/python/training/input.py:190: limit_epochs (from tensorflow.python.training.input) is deprecated and will be removed in a future version.\nInstructions for updating:\nQueue-based input pipelines have been replaced by `tf.data`. Use `tf.data.Dataset.from_tensors(tensor).repeat(num_epochs)`.\nWARNING:tensorflow:From /home/cocoslabs/anaconda3/lib/python2.7/site-packages/tensorflow/python/training/input.py:199: __init__ (from tensorflow.python.training.queue_runner_impl) is deprecated and will be removed in a future version.\nInstructions for updating:\nTo construct input pipelines, use the `tf.data` module.\nWARNING:tensorflow:From /home/cocoslabs/anaconda3/lib/python2.7/site-packages/tensorflow/python/training/input.py:199: add_queue_runner (from tensorflow.python.training.queue_runner_impl) is deprecated and will be removed in a future version.\nInstructions for updating:\nTo construct input pipelines, use the `tf.data` module.\nWARNING:tensorflow:From /home/cocoslabs/anaconda3/lib/python2.7/site-packages/tensorflow/python/training/input.py:202: to_float (from tensorflow.python.ops.math_ops) is deprecated and will be removed in a future version.\nInstructions for updating:\nUse tf.cast instead.\nWARNING:tensorflow:From <ipython-input-2-93f44ccbe31b>:25: batch (from tensorflow.python.training.input) is deprecated and will be removed in a future version.\nInstructions for updating:\nQueue-based input pipelines have been replaced by `tf.data`. Use `tf.data.Dataset.batch(batch_size)` (or `padded_batch(...)` if `dynamic_pad=True`).\n"
    }
   ],
   "source": "# dataset_path=''\ndataset_path='/home/cocoslabs/tensorflow_learn/tensorflow/dataset/training_set/'\nX,Y=read_images(dataset_path)"
  },
  {
   "cell_type": "code",
   "execution_count": 4,
   "metadata": {},
   "outputs": [],
   "source": "def conv2d(x,input,output,filter=3,strides=1,padding='SAME',activation='relu',name=None):\n    w=tf.Variable(tf.random_normal([filter,filter,input,output]))\n    b=tf.Variable(tf.random_normal([output]))\n    x=tf.nn.conv2d(x,w,strides=[1,strides,strides,1],padding=padding)\n    x=tf.nn.bias_add(x,b)\n    if activation is 'relu':\n        x=tf.nn.relu(x,name=name)\n    elif(activation is 'tanh'):\n        x=tf.nn.tanh(x,name=name)\n    elif(activation is 'softmax'):\n        x=tf.nn.softmax(x,name=name)\n    else:\n        print('give relu,tanh or softmax')\n    return x\n\n\ndef maxpool2d(x, k=2,name=None):\n    return tf.nn.max_pool(x, ksize=[1, k, k, 1], strides=[1, k, k, 1],padding='SAME',name=name)\n\ndef averagepool2d(x,k=2,name=None):\n    return tf.nn.avg_pool(x,ksize=[1,k,k,1],strides=[1,k,k,1],padding='SAME',name=name)\n\ndef dense(x,input,output,activation='tanh',name=None):\n    w=tf.Variable(tf.random_normal([input,output]))\n  \n    b=tf.Variable(tf.random_normal([output]))\n    \n    x=tf.add(tf.matmul(x,w),b)\n    \n    if(activation is 'tanh'):\n        x=tf.nn.tanh(x,name=name)\n    elif(activation is 'softmax'):\n        x=tf.nn.softmax(x,name=name)\n    else:\n        print('give tanh or softmax')\n    return x\n    \n\ndef lenet(x,re):\n    with tf.compat.v1.variable_scope('LeNet',reuse=re):\n        conv1=conv2d(x,1,6,filter=5,activation='tanh',padding='VALID',name='Conv1')\n        print conv1.name[:-6],conv1.shape\n        conv1=averagepool2d(conv1,name='Avgpool1')\n        print conv1.name[:-6],conv1.shape\n        conv2=conv2d(conv1,6,16,filter=5,activation='tanh',padding='VALID',name='Conv2')\n        print conv2.name[:-6],conv2.shape\n        conv2=averagepool2d(conv2,name='Avgpool1')\n        flatten=tf.reshape(conv2,[conv2.get_shape()[0],conv2.get_shape()[1]*conv2.get_shape()[2]*\n                                  conv2.get_shape()[3]],name='flatten')\n        print conv2.name[:-6],conv2.shape\n        print flatten.name[:-6],flatten.shape\n\n\n        d1=dense(flatten,input=flatten.get_shape().as_list()[1],output=120,activation='tanh',name='Dense1')\n        print d1.name[:-6],d1.shape\n        d2=dense(d1,input=120,output=84,activation='tanh',name='Dense2')\n        print d2.name[:-6],d2.shape\n        model=dense(d2,input=84,output=2,activation='softmax',name='Dense3')\n        print model.name[:-6],model.shape\n    return model"
  },
  {
   "cell_type": "code",
   "execution_count": 5,
   "metadata": {},
   "outputs": [],
   "source": "x=tf.placeholder(tf.float32,[None,32,32,1])"
  },
  {
   "cell_type": "code",
   "execution_count": 6,
   "metadata": {},
   "outputs": [
    {
     "name": "stdout",
     "output_type": "stream",
     "text": "WARNING:tensorflow:From /home/cocoslabs/anaconda3/lib/python2.7/site-packages/tensorflow/python/framework/op_def_library.py:263: colocate_with (from tensorflow.python.framework.ops) is deprecated and will be removed in a future version.\nInstructions for updating:\nColocations handled automatically by placer.\nLeNet/C (32, 28, 28, 6)\nLeNet/Avgp (32, 14, 14, 6)\nLeNet/C (32, 10, 10, 16)\nLeNet/Avgpoo (32, 5, 5, 16)\nLeNet/fla (32, 400)\nLeNet/De (32, 120)\nLeNet/De (32, 84)\nLeNet/De (32, 2)\nLeNet_1/C (32, 28, 28, 6)\nLeNet_1/Avgp (32, 14, 14, 6)\nLeNet_1/C (32, 10, 10, 16)\nLeNet_1/Avgpoo (32, 5, 5, 16)\nLeNet_1/fla (32, 400)\nLeNet_1/De (32, 120)\nLeNet_1/De (32, 84)\nLeNet_1/De (32, 2)\n"
    }
   ],
   "source": "model_tr=lenet(X,re=False)\n# tf.compat.v1.variable_scope('Lenet',reuse=True)\nmodel_te=lenet(X,re=True)"
  },
  {
   "cell_type": "code",
   "execution_count": 7,
   "metadata": {
    "scrolled": true
   },
   "outputs": [],
   "source": "pred=tf.nn.softmax(model_tr)"
  },
  {
   "cell_type": "code",
   "execution_count": 8,
   "metadata": {},
   "outputs": [
    {
     "name": "stdout",
     "output_type": "stream",
     "text": "WARNING:tensorflow:From <ipython-input-8-06f33255d312>:1: softmax_cross_entropy_with_logits (from tensorflow.python.ops.nn_ops) is deprecated and will be removed in a future version.\nInstructions for updating:\n\nFuture major versions of TensorFlow will allow gradients to flow\ninto the labels input on backprop by default.\n\nSee `tf.nn.softmax_cross_entropy_with_logits_v2`.\n\n"
    }
   ],
   "source": "val=tf.nn.softmax_cross_entropy_with_logits(logits=model_tr,labels=Y)"
  },
  {
   "cell_type": "code",
   "execution_count": 9,
   "metadata": {},
   "outputs": [],
   "source": "loss_op=tf.reduce_mean(val)"
  },
  {
   "cell_type": "code",
   "execution_count": 10,
   "metadata": {},
   "outputs": [],
   "source": "optimizer=tf.train.AdamOptimizer(learning_rate=0.01)"
  },
  {
   "cell_type": "code",
   "execution_count": 11,
   "metadata": {},
   "outputs": [],
   "source": "train_op=optimizer.minimize(loss_op)"
  },
  {
   "cell_type": "code",
   "execution_count": 12,
   "metadata": {},
   "outputs": [],
   "source": "a=tf.argmax(model_te,1)\nb=tf.argmax(tf.cast(Y,tf.int64),1)\ncorrect_pred=tf.equal(a,b)"
  },
  {
   "cell_type": "code",
   "execution_count": 13,
   "metadata": {},
   "outputs": [],
   "source": "accuracy=tf.reduce_mean(tf.cast(correct_pred,tf.float32))"
  },
  {
   "cell_type": "code",
   "execution_count": 17,
   "metadata": {},
   "outputs": [
    {
     "name": "stdout",
     "output_type": "stream",
     "text": "7\nEpoch:1/1 Accuracy:0.438 Loss:0.820\n"
    }
   ],
   "source": "epoch=1\ninit=tf.global_variables_initializer()\nwith tf.Session() as sess:\n    coord=tf.train.Coordinator()\n    threads=tf.train.start_queue_runners(coord=coord)\n    print(len(threads))\n    sess.run(init)\n    for j in range(epoch):\n        for i in range(0,8000//32):\n            sess.run(train_op)\n        acc=sess.run(accuracy)    \n        loss=sess.run(loss_op)\n        print('Epoch:{}/{} Accuracy:{:.3f} Loss:{:.3f}'.format(j+1,epoch,acc,loss))\n    coord.request_stop()\n    coord.join(threads)"
  },
  {
   "cell_type": "code",
   "execution_count": null,
   "metadata": {},
   "outputs": [],
   "source": "\n"
  },
  {
   "cell_type": "code",
   "execution_count": null,
   "metadata": {},
   "outputs": [],
   "source": ""
  },
  {
   "cell_type": "code",
   "execution_count": 15,
   "metadata": {},
   "outputs": [],
   "source": "# init=tf.global_variables_initializer()\n# with tf.Session() as sess:\n#     coord=tf.train.Coordinator()\n#     threads=tf.train.start_queue_runners(coord=coord)\n#     sess.run(init)\n#     sess.run(train_op)\n#     print sess.run(acc)\n#     coord.request_stop()\n#     coord.join(threads)"
  },
  {
   "cell_type": "code",
   "execution_count": null,
   "metadata": {},
   "outputs": [],
   "source": ""
  },
  {
   "cell_type": "code",
   "execution_count": null,
   "metadata": {},
   "outputs": [],
   "source": ""
  },
  {
   "cell_type": "code",
   "execution_count": null,
   "metadata": {},
   "outputs": [],
   "source": ""
  }
 ],
 "metadata": {
  "kernelspec": {
   "display_name": "Python 3",
   "language": "python",
   "name": "python3"
  },
  "language_info": {
   "codemirror_mode": {
    "name": "ipython",
    "version": 2
   },
   "file_extension": ".py",
   "mimetype": "text/x-python",
   "name": "python",
   "nbconvert_exporter": "python",
   "pygments_lexer": "ipython2",
   "version": "2.7.15"
  }
 },
 "nbformat": 4,
 "nbformat_minor": 4
}
